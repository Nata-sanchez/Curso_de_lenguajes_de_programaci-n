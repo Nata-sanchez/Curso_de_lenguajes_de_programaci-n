{
  "nbformat": 4,
  "nbformat_minor": 0,
  "metadata": {
    "colab": {
      "provenance": [],
      "authorship_tag": "ABX9TyNfjlFjyu6RIu6WPiRP1p75",
      "include_colab_link": true
    },
    "kernelspec": {
      "name": "python3",
      "display_name": "Python 3"
    },
    "language_info": {
      "name": "python"
    }
  },
  "cells": [
    {
      "cell_type": "markdown",
      "metadata": {
        "id": "view-in-github",
        "colab_type": "text"
      },
      "source": [
        "<a href=\"https://colab.research.google.com/github/Nata-sanchez/Curso_de_lenguajes_de_programaci-n/blob/main/Gesti%C3%B3n_de_Portafolios_Financieros.ipynb\" target=\"_parent\"><img src=\"https://colab.research.google.com/assets/colab-badge.svg\" alt=\"Open In Colab\"/></a>"
      ]
    },
    {
      "cell_type": "code",
      "execution_count": 84,
      "metadata": {
        "id": "gjAVPSblkZLZ"
      },
      "outputs": [],
      "source": [
        "#Generación de variables\n",
        "\n",
        "Clientes=[\"Sara Perez\", \"Andrea Mora\", \"Julian Andres\", \"Alex Machado\"]\n",
        "Montos_Invertidos=[30000, 40000, 10000, 20000]\n",
        "Rendimientos_Anuales=[5.5, 7.0, 3.5, 4.0]"
      ]
    },
    {
      "cell_type": "code",
      "source": [
        "#Tuplas\n",
        "\n",
        "Cliente_1=(Clientes[0], Montos_Invertidos[0], Rendimientos_Anuales[0])\n",
        "Cliente_2=(Clientes[1], Montos_Invertidos[1], Rendimientos_Anuales[1])\n",
        "Cliente_3=(Clientes[2], Montos_Invertidos[2], Rendimientos_Anuales[2])\n",
        "Cliente_4=(Clientes[3], Montos_Invertidos[3], Rendimientos_Anuales[3])"
      ],
      "metadata": {
        "id": "fny4FiiGlOqw"
      },
      "execution_count": 85,
      "outputs": []
    },
    {
      "cell_type": "code",
      "source": [
        "#Imprimir Tuplas\n",
        "\n",
        "print(Cliente_1)\n",
        "print(Cliente_2)\n",
        "print(Cliente_3)\n",
        "print(Cliente_4)"
      ],
      "metadata": {
        "colab": {
          "base_uri": "https://localhost:8080/"
        },
        "id": "wGSe2bLHms-S",
        "outputId": "8336928c-d428-4b5c-824e-74ae325697d9"
      },
      "execution_count": 86,
      "outputs": [
        {
          "output_type": "stream",
          "name": "stdout",
          "text": [
            "('Sara Perez', 30000, 5.5)\n",
            "('Andrea Mora', 40000, 7.0)\n",
            "('Julian Andres', 10000, 3.5)\n",
            "('Alex Machado', 20000, 4.0)\n"
          ]
        }
      ]
    },
    {
      "cell_type": "code",
      "source": [
        "#Almacenar los Datos en un Diccionario\n",
        "\n",
        "portafolio= {\n",
        "    Cliente_1[0]: {\"Monto_Invertido\": Cliente_1[1], \"Rendimientos_Anuales\": Cliente_1[2]},\n",
        "    Cliente_2[0]: {\"Monto_Invertido\": Cliente_2[1], \"Rendimientos_Anuales\": Cliente_2[2]},\n",
        "    Cliente_3[0]: {\"Monto_Invertido\": Cliente_3[1], \"Rendimientos_Anuales\": Cliente_3[2]},\n",
        "    Cliente_4[0]: {\"Monto_Invertido\": Cliente_4[1], \"Rendimientos_Anuales\": Cliente_4[2]}\n",
        "}"
      ],
      "metadata": {
        "id": "0ZgtyTeVp4t3"
      },
      "execution_count": 87,
      "outputs": []
    },
    {
      "cell_type": "code",
      "source": [
        "#Se imprime el portafolio\n",
        "\n",
        "print(portafolio)"
      ],
      "metadata": {
        "colab": {
          "base_uri": "https://localhost:8080/"
        },
        "id": "-RRRwZvpr8VI",
        "outputId": "5f0810bb-046d-4187-c4b8-6018c93fac30"
      },
      "execution_count": 88,
      "outputs": [
        {
          "output_type": "stream",
          "name": "stdout",
          "text": [
            "{'Sara Perez': {'Monto_Invertido': 30000, 'Rendimientos_Anuales': 5.5}, 'Andrea Mora': {'Monto_Invertido': 40000, 'Rendimientos_Anuales': 7.0}, 'Julian Andres': {'Monto_Invertido': 10000, 'Rendimientos_Anuales': 3.5}, 'Alex Machado': {'Monto_Invertido': 20000, 'Rendimientos_Anuales': 4.0}}\n"
          ]
        }
      ]
    },
    {
      "cell_type": "code",
      "source": [
        "#Evaluación del Rendimiento de los Clientes > 5\n",
        "\n",
        "for cliente, valor in portafolio.items():\n",
        "  if(valor[\"Rendimientos_Anuales\"]>5.0):\n",
        "       print(f\"{cliente} tiene un rendimiento de {valor['Rendimientos_Anuales']}%\" )\n",
        "\n",
        ""
      ],
      "metadata": {
        "colab": {
          "base_uri": "https://localhost:8080/"
        },
        "id": "uRTA-JxCoeC2",
        "outputId": "190a06de-15d9-429d-c097-be20bf2af3b9"
      },
      "execution_count": 89,
      "outputs": [
        {
          "output_type": "stream",
          "name": "stdout",
          "text": [
            "Sara Perez tiene un rendimiento de 5.5%\n",
            "Andrea Mora tiene un rendimiento de 7.0%\n"
          ]
        }
      ]
    },
    {
      "cell_type": "code",
      "source": [
        "#Evaluación del Rendimiento del portafolio completo\n",
        "\n",
        "Rendimiento_total=0\n",
        "for cliente, valor in portafolio.items():\n",
        "  Rendimiento_cliente= (valor['Monto_Invertido'] * valor['Rendimientos_Anuales']) / 100\n",
        "  Rendimiento_total+= Rendimiento_cliente\n",
        "\n",
        "print(f\"El rendimiento total del portafolio es: ${Rendimiento_total}\")"
      ],
      "metadata": {
        "colab": {
          "base_uri": "https://localhost:8080/"
        },
        "id": "8DcCGdvqu4ea",
        "outputId": "94ae9683-9a65-4437-b0ee-cb4472059ae0"
      },
      "execution_count": 90,
      "outputs": [
        {
          "output_type": "stream",
          "name": "stdout",
          "text": [
            "El rendimiento total del portafolio es: $5600.0\n"
          ]
        }
      ]
    },
    {
      "cell_type": "code",
      "source": [
        "#Evaluación del mayor Rendimiento\n",
        "\n",
        "Rendimiento_total=0\n",
        "Cliente_con_mayor_rendimiento=\"\"\n",
        "\n",
        "for cliente, valor in portafolio.items():\n",
        "  Rendimiento_cliente= (valor['Monto_Invertido'] * valor['Rendimientos_Anuales']) / 100\n",
        "  if(Rendimiento_cliente > Rendimiento_total):\n",
        "    Rendimiento_total=Rendimiento_cliente\n",
        "    Cliente_con_mayor_rendimiento= cliente\n",
        "print(f\"El cliente con mayor rendimiento es: {Cliente_con_mayor_rendimiento}\")\n"
      ],
      "metadata": {
        "colab": {
          "base_uri": "https://localhost:8080/"
        },
        "id": "RoLf44AT1kJq",
        "outputId": "4ba0b4bd-4c8c-45b7-e010-fa482ca5f17a"
      },
      "execution_count": 91,
      "outputs": [
        {
          "output_type": "stream",
          "name": "stdout",
          "text": [
            "El cliente con mayor rendimiento es: Andrea Mora\n"
          ]
        }
      ]
    },
    {
      "cell_type": "code",
      "source": [
        "#Actualizar el Monto Invertido de un Cliente\n",
        "\n",
        "portafolio[\"Julian Andres\"][\"Monto_Invertido\"]=25000\n",
        "\n"
      ],
      "metadata": {
        "id": "XnRSOCiT5ulV"
      },
      "execution_count": 92,
      "outputs": []
    },
    {
      "cell_type": "code",
      "source": [
        "#Añadir un Nuevo Cliente al Portafolio\n",
        "\n",
        "portafolio[\"Laura Fernandez\"]= {\"Monto_Invertido\": 22000, \"Rendimientos_Anuales\": 6.8}\n",
        "\n",
        "print(portafolio)"
      ],
      "metadata": {
        "colab": {
          "base_uri": "https://localhost:8080/"
        },
        "id": "3rgULrRg6t4h",
        "outputId": "5794a2b8-143d-4b36-b1df-10d2305bc054"
      },
      "execution_count": 94,
      "outputs": [
        {
          "output_type": "stream",
          "name": "stdout",
          "text": [
            "{'Sara Perez': {'Monto_Invertido': 30000, 'Rendimientos_Anuales': 5.5}, 'Andrea Mora': {'Monto_Invertido': 40000, 'Rendimientos_Anuales': 7.0}, 'Julian Andres': {'Monto_Invertido': 25000, 'Rendimientos_Anuales': 3.5}, 'Alex Machado': {'Monto_Invertido': 20000, 'Rendimientos_Anuales': 4.0}, 'Laura Fernandez': {'Monto_Invertido': 22000, 'Rendimientos_Anuales': 6.8}}\n"
          ]
        }
      ]
    },
    {
      "cell_type": "code",
      "source": [
        "#Remover a un Cliente del Portafolio\n",
        "\n",
        "del portafolio[\"Alex Machado\"]\n",
        "print(portafolio)"
      ],
      "metadata": {
        "colab": {
          "base_uri": "https://localhost:8080/"
        },
        "id": "F1h2j0-j7dmJ",
        "outputId": "c7f6bee2-b9f9-4a8d-b257-a245ee2ae6d3"
      },
      "execution_count": 95,
      "outputs": [
        {
          "output_type": "stream",
          "name": "stdout",
          "text": [
            "{'Sara Perez': {'Monto_Invertido': 30000, 'Rendimientos_Anuales': 5.5}, 'Andrea Mora': {'Monto_Invertido': 40000, 'Rendimientos_Anuales': 7.0}, 'Julian Andres': {'Monto_Invertido': 25000, 'Rendimientos_Anuales': 3.5}, 'Laura Fernandez': {'Monto_Invertido': 22000, 'Rendimientos_Anuales': 6.8}}\n"
          ]
        }
      ]
    }
  ]
}